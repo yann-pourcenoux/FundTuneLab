{
  "cells": [
    {
      "cell_type": "markdown",
      "metadata": {
        "id": "WzHr8McwAbNd"
      },
      "source": [
        "# Black-Litterman allocation\n",
        "\n",
        "The Black-Litterman method is a very powerful way of converting your views on asset returns, along with your uncertainty in these views, into a portfolio.\n",
        "\n",
        "For a description of the theory, please read the [documentation page](https://pyportfolioopt.readthedocs.io/en/latest/BlackLitterman.html) and the links therein.\n",
        "\n",
        "In this recipe, we will cover:\n",
        "\n",
        "- Downloading data for the Black-Litterman method\n",
        "- Constructing the prior return vector based on market equilibrium\n",
        "- Two ways of constructing the uncertainty matrix\n",
        "- Combining Black-Litterman with mean-variance optimization\n",
        "\n",
        "## Downloading data\n",
        "\n",
        "In addition to price data, constructing a market prior requires market-caps.\n",
        "\n",
        "\n",
        "[![Open In Colab](https://colab.research.google.com/assets/colab-badge.svg)](https://colab.research.google.com/github/robertmartin8/PyPortfolioOpt/blob/master/cookbook/4-Black-Litterman-Allocation.ipynb)\n",
        "    \n",
        "[![Kaggle](https://kaggle.com/static/images/open-in-kaggle.svg)](https://kaggle.com/kernels/welcome?src=https://github.com/robertmartin8/PyPortfolioOpt/blob/master/cookbook/4-Black-Litterman-Allocation.ipynb)\n",
        "    \n",
        "[![Gradient](https://assets.paperspace.io/img/gradient-badge.svg)](https://console.paperspace.com/github/robertmartin8/PyPortfolioOpt/blob/master/cookbook/4-Black-Litterman-Allocation.ipynb)\n",
        "    \n",
        "[![Open In SageMaker Studio Lab](https://studiolab.sagemaker.aws/studiolab.svg)](https://studiolab.sagemaker.aws/import/github/robertmartin8/PyPortfolioOpt/blob/master/cookbook/4-Black-Litterman-Allocation.ipynb)"
      ]
    },
    {
      "cell_type": "code",
      "execution_count": 2,
      "metadata": {
        "id": "bs5cBlLfAbNf"
      },
      "outputs": [],
      "source": [
        "import numpy as np\n",
        "import pandas as pd\n",
        "import matplotlib.pyplot as plt\n",
        "import yfinance as yf"
      ]
    },
    {
      "cell_type": "code",
      "execution_count": 3,
      "metadata": {
        "id": "_2kfAeqOAbNg"
      },
      "outputs": [],
      "source": [
        "tickers = [\"MSFT\", \"AMZN\", \"NAT\", \"BAC\", \"DPZ\", \"DIS\", \"KO\", \"MCD\", \"COST\", \"SBUX\"]"
      ]
    },
    {
      "cell_type": "code",
      "execution_count": 4,
      "metadata": {
        "colab": {
          "base_uri": "https://localhost:8080/",
          "height": 255
        },
        "id": "ghoX_hFkAbNg",
        "outputId": "6104b7ab-5a41-47c3-9d2b-5787517a4b99"
      },
      "outputs": [
        {
          "name": "stderr",
          "output_type": "stream",
          "text": [
            "[*********************100%***********************]  10 of 10 completed\n"
          ]
        },
        {
          "data": {
            "text/html": [
              "<div>\n",
              "<style scoped>\n",
              "    .dataframe tbody tr th:only-of-type {\n",
              "        vertical-align: middle;\n",
              "    }\n",
              "\n",
              "    .dataframe tbody tr th {\n",
              "        vertical-align: top;\n",
              "    }\n",
              "\n",
              "    .dataframe thead th {\n",
              "        text-align: right;\n",
              "    }\n",
              "</style>\n",
              "<table border=\"1\" class=\"dataframe\">\n",
              "  <thead>\n",
              "    <tr style=\"text-align: right;\">\n",
              "      <th>Ticker</th>\n",
              "      <th>AMZN</th>\n",
              "      <th>BAC</th>\n",
              "      <th>COST</th>\n",
              "      <th>DIS</th>\n",
              "      <th>DPZ</th>\n",
              "      <th>KO</th>\n",
              "      <th>MCD</th>\n",
              "      <th>MSFT</th>\n",
              "      <th>NAT</th>\n",
              "      <th>SBUX</th>\n",
              "    </tr>\n",
              "    <tr>\n",
              "      <th>Date</th>\n",
              "      <th></th>\n",
              "      <th></th>\n",
              "      <th></th>\n",
              "      <th></th>\n",
              "      <th></th>\n",
              "      <th></th>\n",
              "      <th></th>\n",
              "      <th></th>\n",
              "      <th></th>\n",
              "      <th></th>\n",
              "    </tr>\n",
              "  </thead>\n",
              "  <tbody>\n",
              "    <tr>\n",
              "      <th>2024-11-22</th>\n",
              "      <td>197.119995</td>\n",
              "      <td>47.000000</td>\n",
              "      <td>964.010010</td>\n",
              "      <td>115.650002</td>\n",
              "      <td>453.350006</td>\n",
              "      <td>63.438839</td>\n",
              "      <td>290.279999</td>\n",
              "      <td>417.000000</td>\n",
              "      <td>2.97</td>\n",
              "      <td>102.500000</td>\n",
              "    </tr>\n",
              "    <tr>\n",
              "      <th>2024-11-25</th>\n",
              "      <td>201.449997</td>\n",
              "      <td>47.500000</td>\n",
              "      <td>960.890015</td>\n",
              "      <td>116.000000</td>\n",
              "      <td>469.179993</td>\n",
              "      <td>63.895374</td>\n",
              "      <td>296.190002</td>\n",
              "      <td>418.790009</td>\n",
              "      <td>2.95</td>\n",
              "      <td>101.839996</td>\n",
              "    </tr>\n",
              "    <tr>\n",
              "      <th>2024-11-26</th>\n",
              "      <td>207.860001</td>\n",
              "      <td>47.750000</td>\n",
              "      <td>971.500000</td>\n",
              "      <td>115.449997</td>\n",
              "      <td>472.910004</td>\n",
              "      <td>64.064102</td>\n",
              "      <td>296.329987</td>\n",
              "      <td>427.989990</td>\n",
              "      <td>2.88</td>\n",
              "      <td>100.680000</td>\n",
              "    </tr>\n",
              "    <tr>\n",
              "      <th>2024-11-27</th>\n",
              "      <td>205.740005</td>\n",
              "      <td>47.770000</td>\n",
              "      <td>961.549988</td>\n",
              "      <td>117.599998</td>\n",
              "      <td>472.339996</td>\n",
              "      <td>63.945000</td>\n",
              "      <td>295.079987</td>\n",
              "      <td>422.989990</td>\n",
              "      <td>2.88</td>\n",
              "      <td>101.510002</td>\n",
              "    </tr>\n",
              "    <tr>\n",
              "      <th>2024-11-29</th>\n",
              "      <td>207.889999</td>\n",
              "      <td>47.509998</td>\n",
              "      <td>971.880005</td>\n",
              "      <td>117.470001</td>\n",
              "      <td>476.190002</td>\n",
              "      <td>64.080002</td>\n",
              "      <td>296.010010</td>\n",
              "      <td>423.459991</td>\n",
              "      <td>2.68</td>\n",
              "      <td>102.459999</td>\n",
              "    </tr>\n",
              "  </tbody>\n",
              "</table>\n",
              "</div>"
            ],
            "text/plain": [
              "Ticker            AMZN        BAC        COST         DIS         DPZ  \\\n",
              "Date                                                                    \n",
              "2024-11-22  197.119995  47.000000  964.010010  115.650002  453.350006   \n",
              "2024-11-25  201.449997  47.500000  960.890015  116.000000  469.179993   \n",
              "2024-11-26  207.860001  47.750000  971.500000  115.449997  472.910004   \n",
              "2024-11-27  205.740005  47.770000  961.549988  117.599998  472.339996   \n",
              "2024-11-29  207.889999  47.509998  971.880005  117.470001  476.190002   \n",
              "\n",
              "Ticker             KO         MCD        MSFT   NAT        SBUX  \n",
              "Date                                                             \n",
              "2024-11-22  63.438839  290.279999  417.000000  2.97  102.500000  \n",
              "2024-11-25  63.895374  296.190002  418.790009  2.95  101.839996  \n",
              "2024-11-26  64.064102  296.329987  427.989990  2.88  100.680000  \n",
              "2024-11-27  63.945000  295.079987  422.989990  2.88  101.510002  \n",
              "2024-11-29  64.080002  296.010010  423.459991  2.68  102.459999  "
            ]
          },
          "execution_count": 4,
          "metadata": {},
          "output_type": "execute_result"
        }
      ],
      "source": [
        "ohlc = yf.download(tickers, period=\"max\")\n",
        "prices = ohlc[\"Adj Close\"]\n",
        "prices.tail()"
      ]
    },
    {
      "cell_type": "code",
      "execution_count": 5,
      "metadata": {
        "colab": {
          "base_uri": "https://localhost:8080/"
        },
        "id": "WmtKlXfLAbNi",
        "outputId": "ea14863a-b8a0-4c19-9c85-bea9fbdf29bc"
      },
      "outputs": [
        {
          "name": "stderr",
          "output_type": "stream",
          "text": [
            "[*********************100%***********************]  1 of 1 completed\n"
          ]
        },
        {
          "data": {
            "text/html": [
              "<div>\n",
              "<style scoped>\n",
              "    .dataframe tbody tr th:only-of-type {\n",
              "        vertical-align: middle;\n",
              "    }\n",
              "\n",
              "    .dataframe tbody tr th {\n",
              "        vertical-align: top;\n",
              "    }\n",
              "\n",
              "    .dataframe thead th {\n",
              "        text-align: right;\n",
              "    }\n",
              "</style>\n",
              "<table border=\"1\" class=\"dataframe\">\n",
              "  <thead>\n",
              "    <tr style=\"text-align: right;\">\n",
              "      <th>Ticker</th>\n",
              "      <th>SPY</th>\n",
              "    </tr>\n",
              "    <tr>\n",
              "      <th>Date</th>\n",
              "      <th></th>\n",
              "    </tr>\n",
              "  </thead>\n",
              "  <tbody>\n",
              "    <tr>\n",
              "      <th>1993-01-29</th>\n",
              "      <td>24.608627</td>\n",
              "    </tr>\n",
              "    <tr>\n",
              "      <th>1993-02-01</th>\n",
              "      <td>24.783642</td>\n",
              "    </tr>\n",
              "    <tr>\n",
              "      <th>1993-02-02</th>\n",
              "      <td>24.836149</td>\n",
              "    </tr>\n",
              "    <tr>\n",
              "      <th>1993-02-03</th>\n",
              "      <td>25.098694</td>\n",
              "    </tr>\n",
              "    <tr>\n",
              "      <th>1993-02-04</th>\n",
              "      <td>25.203718</td>\n",
              "    </tr>\n",
              "  </tbody>\n",
              "</table>\n",
              "</div>"
            ],
            "text/plain": [
              "Ticker            SPY\n",
              "Date                 \n",
              "1993-01-29  24.608627\n",
              "1993-02-01  24.783642\n",
              "1993-02-02  24.836149\n",
              "1993-02-03  25.098694\n",
              "1993-02-04  25.203718"
            ]
          },
          "execution_count": 5,
          "metadata": {},
          "output_type": "execute_result"
        }
      ],
      "source": [
        "market_prices = yf.download(\"SPY\", period=\"max\")[\"Adj Close\"]\n",
        "market_prices.head()"
      ]
    },
    {
      "cell_type": "code",
      "execution_count": 6,
      "metadata": {
        "colab": {
          "base_uri": "https://localhost:8080/"
        },
        "id": "rZwXHHxxAbNi",
        "outputId": "dee319be-67e2-44e7-e576-96c2b934d139"
      },
      "outputs": [
        {
          "data": {
            "text/plain": [
              "{'MSFT': 3148374343680,\n",
              " 'AMZN': 2185963372544,\n",
              " 'NAT': 601333056,\n",
              " 'BAC': 366533443584,\n",
              " 'DPZ': 16443793408,\n",
              " 'DIS': 212966064128,\n",
              " 'KO': 277551644672,\n",
              " 'MCD': 212126695424,\n",
              " 'COST': 430614740992,\n",
              " 'SBUX': 116169138176}"
            ]
          },
          "execution_count": 6,
          "metadata": {},
          "output_type": "execute_result"
        }
      ],
      "source": [
        "mcaps = {}\n",
        "for t in tickers:\n",
        "    stock = yf.Ticker(t)\n",
        "    mcaps[t] = stock.info[\"marketCap\"]\n",
        "mcaps"
      ]
    },
    {
      "cell_type": "markdown",
      "metadata": {
        "id": "w6cnqTB8AbNi"
      },
      "source": [
        "## Constructing the prior"
      ]
    },
    {
      "cell_type": "code",
      "execution_count": 7,
      "metadata": {
        "colab": {
          "base_uri": "https://localhost:8080/",
          "height": 35
        },
        "id": "KMyL_d0mAbNj",
        "outputId": "83c8ff0b-6ac3-4c80-9bea-8f6216384238"
      },
      "outputs": [
        {
          "data": {
            "text/plain": [
              "'1.5.6'"
            ]
          },
          "execution_count": 7,
          "metadata": {},
          "output_type": "execute_result"
        }
      ],
      "source": [
        "import pypfopt\n",
        "pypfopt.__version__"
      ]
    },
    {
      "cell_type": "code",
      "execution_count": 8,
      "metadata": {
        "colab": {
          "base_uri": "https://localhost:8080/"
        },
        "id": "V35ccSUSAbNj",
        "outputId": "bdc6d9bc-33c2-47b6-ac60-c43a4cfed6b5"
      },
      "outputs": [
        {
          "data": {
            "text/plain": [
              "np.float64(3.401732529775816)"
            ]
          },
          "execution_count": 8,
          "metadata": {},
          "output_type": "execute_result"
        }
      ],
      "source": [
        "from pypfopt import black_litterman, risk_models\n",
        "from pypfopt import BlackLittermanModel, plotting\n",
        "\n",
        "S = risk_models.CovarianceShrinkage(prices).ledoit_wolf()\n",
        "delta = black_litterman.market_implied_risk_aversion(market_prices)\n",
        "delta"
      ]
    },
    {
      "cell_type": "code",
      "execution_count": 9,
      "metadata": {
        "colab": {
          "base_uri": "https://localhost:8080/",
          "height": 297
        },
        "id": "tgz3bOltAbNj",
        "outputId": "41740df8-87ca-45c7-b0ef-4af343ae3b0a"
      },
      "outputs": [
        {
          "data": {
            "image/png": "[encoded data removed]",
            "text/plain": [
              "<Figure size 640x480 with 2 Axes>"
            ]
          },
          "metadata": {},
          "output_type": "display_data"
        }
      ],
      "source": [
        "plotting.plot_covariance(S, plot_correlation=True);"
      ]
    },
    {
      "cell_type": "code",
      "execution_count": 10,
      "metadata": {
        "colab": {
          "base_uri": "https://localhost:8080/"
        },
        "id": "qknxazUhAbNk",
        "outputId": "eb6b5bdf-7a31-4c76-90e0-ca2a751126ee"
      },
      "outputs": [
        {
          "data": {
            "text/plain": [
              "Ticker\n",
              "AMZN    0.209014\n",
              "BAC     0.104631\n",
              "COST    0.078294\n",
              "DIS     0.092434\n",
              "DPZ     0.038470\n",
              "KO      0.053045\n",
              "MCD     0.058147\n",
              "MSFT    0.156181\n",
              "NAT     0.041635\n",
              "SBUX    0.078083\n",
              "dtype: float64"
            ]
          },
          "execution_count": 10,
          "metadata": {},
          "output_type": "execute_result"
        }
      ],
      "source": [
        "market_prior = black_litterman.market_implied_prior_returns(mcaps, delta, S)\n",
        "market_prior"
      ]
    },
    {
      "cell_type": "code",
      "execution_count": 11,
      "metadata": {
        "colab": {
          "base_uri": "https://localhost:8080/",
          "height": 320
        },
        "id": "9exlhi1BAbNk",
        "outputId": "a1292c4b-38b9-4c02-919d-b9cf33a4309e"
      },
      "outputs": [
        {
          "data": {
            "image/png": "[encoded data removed]",
            "text/plain": [
              "<Figure size 1000x500 with 1 Axes>"
            ]
          },
          "metadata": {},
          "output_type": "display_data"
        }
      ],
      "source": [
        "market_prior.plot.barh(figsize=(10,5));"
      ]
    },
    {
      "cell_type": "markdown",
      "metadata": {
        "id": "v1YzJTJFAbNl"
      },
      "source": [
        "## Views\n",
        "\n",
        "In the BL method, views are specified via the matrix P (picking matrix) and the vector Q. Q contains the magnitude of each view, while P maps the views to the assets they belong to. \n",
        "\n",
        "If you are providing **absolute views** (i.e a return estimate for each asset), you don't have to worry about P and Q, you can just pass your views as a dictionary."
      ]
    },
    {
      "cell_type": "code",
      "execution_count": 12,
      "metadata": {
        "id": "uTP2BVZIAbNl"
      },
      "outputs": [],
      "source": [
        "# You don't have to provide views on all the assets\n",
        "viewdict = {\n",
        "    \"AMZN\": 0.10,\n",
        "    \"BAC\": 0.30,\n",
        "    \"COST\": 0.05,\n",
        "    \"DIS\": 0.05,\n",
        "    \"DPZ\": 0.20,\n",
        "    \"KO\": -0.05,  # I think Coca-Cola will go down 5%\n",
        "    \"MCD\": 0.15,\n",
        "    \"MSFT\": 0.10,\n",
        "    \"NAT\": 0.50,  # but low confidence, which will be reflected later\n",
        "    \"SBUX\": 0.10\n",
        "}\n",
        "\n",
        "bl = BlackLittermanModel(S, pi=market_prior, absolute_views=viewdict)"
      ]
    },
    {
      "cell_type": "markdown",
      "metadata": {
        "id": "fA5PRsozAbNm"
      },
      "source": [
        "Black-Litterman also allows for relative views, e.g you think asset A will outperform asset B by 10%. If you'd like to incorporate these, you will have to build P and Q yourself. An explanation for this is given in the [docs](https://pyportfolioopt.readthedocs.io/en/latest/BlackLitterman.html#views)."
      ]
    },
    {
      "cell_type": "markdown",
      "metadata": {
        "id": "QIMKGZEoAbNm"
      },
      "source": [
        "## View confidences\n",
        "\n",
        "In this section, we provide two ways that you may wish to construct the uncertainty matrix. The first is known as Idzorek's method. It allows you to specify a vector/list of percentage confidences."
      ]
    },
    {
      "cell_type": "code",
      "execution_count": 13,
      "metadata": {
        "id": "Z0Pzoio1AbNm"
      },
      "outputs": [],
      "source": [
        "confidences = [\n",
        "    0.6,\n",
        "    0.4,\n",
        "    0.2,\n",
        "    0.5,\n",
        "    0.7, # confident in dominos\n",
        "    0.7, # confident KO will do poorly\n",
        "    0.7, \n",
        "    0.5,\n",
        "    0.1,\n",
        "    0.4\n",
        "]"
      ]
    },
    {
      "cell_type": "code",
      "execution_count": 14,
      "metadata": {
        "id": "EaRmLt4IAbNm"
      },
      "outputs": [],
      "source": [
        "bl = BlackLittermanModel(S, pi=market_prior, absolute_views=viewdict, omega=\"idzorek\", view_confidences=confidences)"
      ]
    },
    {
      "cell_type": "code",
      "execution_count": 15,
      "metadata": {
        "colab": {
          "base_uri": "https://localhost:8080/",
          "height": 428
        },
        "id": "fo6SKTGAAbNn",
        "outputId": "49517772-73fa-405b-a164-8a39c1456faf"
      },
      "outputs": [
        {
          "data": {
            "image/png": "[encoded data removed]",
            "text/plain": [
              "<Figure size 700x700 with 1 Axes>"
            ]
          },
          "metadata": {},
          "output_type": "display_data"
        }
      ],
      "source": [
        "fig, ax = plt.subplots(figsize=(7,7))\n",
        "im = ax.imshow(bl.omega)\n",
        "\n",
        "# We want to show all ticks...\n",
        "ax.set_xticks(np.arange(len(bl.tickers)))\n",
        "ax.set_yticks(np.arange(len(bl.tickers)))\n",
        "\n",
        "ax.set_xticklabels(bl.tickers)\n",
        "ax.set_yticklabels(bl.tickers)\n",
        "plt.show()"
      ]
    },
    {
      "cell_type": "code",
      "execution_count": 16,
      "metadata": {
        "colab": {
          "base_uri": "https://localhost:8080/"
        },
        "id": "58aBtbhuAbNn",
        "outputId": "31bcfa00-46ba-4600-b626-c7cf15a352b8"
      },
      "outputs": [
        {
          "data": {
            "text/plain": [
              "array([0.00456881, 0.00877776, 0.01202519, 0.00494424, 0.0008738 ,\n",
              "       0.00112756, 0.00168424, 0.00344649, 0.04131355, 0.00547976])"
            ]
          },
          "execution_count": 16,
          "metadata": {},
          "output_type": "execute_result"
        }
      ],
      "source": [
        "np.diag(bl.omega)"
      ]
    },
    {
      "cell_type": "markdown",
      "metadata": {
        "id": "lUGduOmsAbNn"
      },
      "source": [
        "Note how NAT, which we gave the lowest confidence, also has the highest uncertainty.\n",
        "\n",
        "Instead of inputting confidences, we can calculate the uncertainty matrix directly by specifying 1 standard deviation confidence intervals, i.e bounds which we think will contain the true return 68% of the time. This may be easier than coming up with somewhat arbitrary percentage confidences"
      ]
    },
    {
      "cell_type": "code",
      "execution_count": 17,
      "metadata": {
        "id": "QQtnWs9xAbNn"
      },
      "outputs": [],
      "source": [
        "intervals = [\n",
        "    (0, 0.25),\n",
        "    (0.1, 0.4),\n",
        "    (-0.1, 0.15),\n",
        "    (-0.05, 0.1),\n",
        "    (0.15, 0.25),\n",
        "    (-0.1, 0),\n",
        "    (0.1, 0.2),\n",
        "    (0.08, 0.12),\n",
        "    (0.1, 0.9),\n",
        "    (0, 0.3)\n",
        "]"
      ]
    },
    {
      "cell_type": "code",
      "execution_count": 18,
      "metadata": {
        "colab": {
          "base_uri": "https://localhost:8080/"
        },
        "id": "avW4ld8bAbNo",
        "outputId": "540d7109-e20f-4eb4-e32d-fb16ae670a5b"
      },
      "outputs": [
        {
          "name": "stdout",
          "output_type": "stream",
          "text": [
            "[0.015625, 0.022500000000000006, 0.015625, 0.0056250000000000015, 0.0025000000000000005, 0.0025000000000000005, 0.0025000000000000005, 0.00039999999999999986, 0.16000000000000003, 0.0225]\n"
          ]
        }
      ],
      "source": [
        "variances = []\n",
        "for lb, ub in intervals:\n",
        "    sigma = (ub - lb)/2\n",
        "    variances.append(sigma ** 2)\n",
        "\n",
        "print(variances)\n",
        "omega = np.diag(variances)"
      ]
    },
    {
      "cell_type": "markdown",
      "metadata": {
        "id": "VlVq9sICAbNo"
      },
      "source": [
        "## Posterior estimates\n",
        "\n",
        "Given the inputs, we can compute a posterior estimate of returns\n"
      ]
    },
    {
      "cell_type": "code",
      "execution_count": 19,
      "metadata": {
        "id": "478dHIDHAbNo"
      },
      "outputs": [],
      "source": [
        "# We are using the shortcut to automatically compute market-implied prior\n",
        "bl = BlackLittermanModel(S, pi=\"market\", market_caps=mcaps, risk_aversion=delta,\n",
        "                        absolute_views=viewdict, omega=omega)"
      ]
    },
    {
      "cell_type": "code",
      "execution_count": 20,
      "metadata": {
        "colab": {
          "base_uri": "https://localhost:8080/"
        },
        "id": "A9VSO7xAAbNo",
        "outputId": "c501cc36-8719-4826-d2b9-c138ab2f46c5"
      },
      "outputs": [
        {
          "data": {
            "text/plain": [
              "Ticker\n",
              "AMZN    0.178794\n",
              "BAC     0.137065\n",
              "COST    0.068768\n",
              "DIS     0.074427\n",
              "DPZ     0.107061\n",
              "KO      0.008443\n",
              "MCD     0.103680\n",
              "MSFT    0.107061\n",
              "NAT     0.063914\n",
              "SBUX    0.086824\n",
              "dtype: float64"
            ]
          },
          "execution_count": 20,
          "metadata": {},
          "output_type": "execute_result"
        }
      ],
      "source": [
        "# Posterior estimate of returns\n",
        "ret_bl = bl.bl_returns()\n",
        "ret_bl"
      ]
    },
    {
      "cell_type": "markdown",
      "metadata": {
        "id": "eRKmlKABAbNo"
      },
      "source": [
        "We can visualise how this compares to the prior and our views:"
      ]
    },
    {
      "cell_type": "code",
      "execution_count": 21,
      "metadata": {
        "colab": {
          "base_uri": "https://localhost:8080/",
          "height": 363
        },
        "id": "KHfvi6KvAbNp",
        "outputId": "ee876b7b-a24c-4dea-c344-a1c8a5c6c7d4"
      },
      "outputs": [
        {
          "data": {
            "text/html": [
              "<div>\n",
              "<style scoped>\n",
              "    .dataframe tbody tr th:only-of-type {\n",
              "        vertical-align: middle;\n",
              "    }\n",
              "\n",
              "    .dataframe tbody tr th {\n",
              "        vertical-align: top;\n",
              "    }\n",
              "\n",
              "    .dataframe thead th {\n",
              "        text-align: right;\n",
              "    }\n",
              "</style>\n",
              "<table border=\"1\" class=\"dataframe\">\n",
              "  <thead>\n",
              "    <tr style=\"text-align: right;\">\n",
              "      <th></th>\n",
              "      <th>Prior</th>\n",
              "      <th>Posterior</th>\n",
              "      <th>Views</th>\n",
              "    </tr>\n",
              "  </thead>\n",
              "  <tbody>\n",
              "    <tr>\n",
              "      <th>AMZN</th>\n",
              "      <td>0.209014</td>\n",
              "      <td>0.178794</td>\n",
              "      <td>0.10</td>\n",
              "    </tr>\n",
              "    <tr>\n",
              "      <th>BAC</th>\n",
              "      <td>0.104631</td>\n",
              "      <td>0.137065</td>\n",
              "      <td>0.30</td>\n",
              "    </tr>\n",
              "    <tr>\n",
              "      <th>COST</th>\n",
              "      <td>0.078294</td>\n",
              "      <td>0.068768</td>\n",
              "      <td>0.05</td>\n",
              "    </tr>\n",
              "    <tr>\n",
              "      <th>DIS</th>\n",
              "      <td>0.092434</td>\n",
              "      <td>0.074427</td>\n",
              "      <td>0.05</td>\n",
              "    </tr>\n",
              "    <tr>\n",
              "      <th>DPZ</th>\n",
              "      <td>0.038470</td>\n",
              "      <td>0.107061</td>\n",
              "      <td>0.20</td>\n",
              "    </tr>\n",
              "    <tr>\n",
              "      <th>KO</th>\n",
              "      <td>0.053045</td>\n",
              "      <td>0.008443</td>\n",
              "      <td>-0.05</td>\n",
              "    </tr>\n",
              "    <tr>\n",
              "      <th>MCD</th>\n",
              "      <td>0.058147</td>\n",
              "      <td>0.103680</td>\n",
              "      <td>0.15</td>\n",
              "    </tr>\n",
              "    <tr>\n",
              "      <th>MSFT</th>\n",
              "      <td>0.156181</td>\n",
              "      <td>0.107061</td>\n",
              "      <td>0.10</td>\n",
              "    </tr>\n",
              "    <tr>\n",
              "      <th>NAT</th>\n",
              "      <td>0.041635</td>\n",
              "      <td>0.063914</td>\n",
              "      <td>0.50</td>\n",
              "    </tr>\n",
              "    <tr>\n",
              "      <th>SBUX</th>\n",
              "      <td>0.078083</td>\n",
              "      <td>0.086824</td>\n",
              "      <td>0.10</td>\n",
              "    </tr>\n",
              "  </tbody>\n",
              "</table>\n",
              "</div>"
            ],
            "text/plain": [
              "         Prior  Posterior  Views\n",
              "AMZN  0.209014   0.178794   0.10\n",
              "BAC   0.104631   0.137065   0.30\n",
              "COST  0.078294   0.068768   0.05\n",
              "DIS   0.092434   0.074427   0.05\n",
              "DPZ   0.038470   0.107061   0.20\n",
              "KO    0.053045   0.008443  -0.05\n",
              "MCD   0.058147   0.103680   0.15\n",
              "MSFT  0.156181   0.107061   0.10\n",
              "NAT   0.041635   0.063914   0.50\n",
              "SBUX  0.078083   0.086824   0.10"
            ]
          },
          "execution_count": 21,
          "metadata": {},
          "output_type": "execute_result"
        }
      ],
      "source": [
        "rets_df = pd.DataFrame([market_prior, ret_bl, pd.Series(viewdict)], \n",
        "             index=[\"Prior\", \"Posterior\", \"Views\"]).T\n",
        "rets_df"
      ]
    },
    {
      "cell_type": "code",
      "execution_count": 22,
      "metadata": {
        "colab": {
          "base_uri": "https://localhost:8080/",
          "height": 503
        },
        "id": "n55wKWFuAbNp",
        "outputId": "9445d68a-279e-4cfe-85a6-0609e411b03c"
      },
      "outputs": [
        {
          "data": {
            "image/png": "[encoded data removed]",
            "text/plain": [
              "<Figure size 1200x800 with 1 Axes>"
            ]
          },
          "metadata": {},
          "output_type": "display_data"
        }
      ],
      "source": [
        "rets_df.plot.bar(figsize=(12,8));"
      ]
    },
    {
      "cell_type": "markdown",
      "metadata": {
        "id": "fuizxt0NAbNp"
      },
      "source": [
        "Notice that the posterior is often between the prior and the views. This supports the fact that the BL method is essentially a Bayesian weighted-average of the prior and views, where the weight is determined by the confidence.\n",
        "\n",
        "A similar but less intuitive procedure can be used to produce the posterior covariance estimate:"
      ]
    },
    {
      "cell_type": "code",
      "execution_count": 23,
      "metadata": {
        "colab": {
          "base_uri": "https://localhost:8080/",
          "height": 297
        },
        "id": "i6S1l2-aAbNp",
        "outputId": "411f2876-67fb-4d2d-8f88-4b63463bf10f"
      },
      "outputs": [
        {
          "data": {
            "image/png": "[encoded data removed]",
            "text/plain": [
              "<Figure size 640x480 with 2 Axes>"
            ]
          },
          "metadata": {},
          "output_type": "display_data"
        }
      ],
      "source": [
        "S_bl = bl.bl_cov()\n",
        "plotting.plot_covariance(S_bl);"
      ]
    },
    {
      "cell_type": "markdown",
      "metadata": {
        "id": "YC9fNRAbAbNp"
      },
      "source": [
        "## Portfolio allocation\n",
        "\n",
        "Now that we have constructed our Black-Litterman posterior estimate, we can proceed to use any of the optimizers discussed in previous recipes."
      ]
    },
    {
      "cell_type": "code",
      "execution_count": 24,
      "metadata": {
        "id": "hDS0vIUCAbNp"
      },
      "outputs": [],
      "source": [
        "from pypfopt import EfficientFrontier, objective_functions"
      ]
    },
    {
      "cell_type": "code",
      "execution_count": 25,
      "metadata": {
        "colab": {
          "base_uri": "https://localhost:8080/"
        },
        "id": "qylII3-oAbNp",
        "outputId": "f81f870a-3181-42ba-afcf-321674ddf5d7"
      },
      "outputs": [
        {
          "name": "stderr",
          "output_type": "stream",
          "text": [
            "/Users/robert/Dev/PyPortfolioOpt/pypfopt/efficient_frontier/efficient_frontier.py:259: UserWarning: max_sharpe transforms the optimization problem so additional objectives may not work as expected.\n",
            "  warnings.warn(\n"
          ]
        },
        {
          "data": {
            "text/plain": [
              "OrderedDict([('AMZN', 0.19488),\n",
              "             ('BAC', 0.14496),\n",
              "             ('COST', 0.07173),\n",
              "             ('DIS', 0.07076),\n",
              "             ('DPZ', 0.12771),\n",
              "             ('KO', 0.0),\n",
              "             ('MCD', 0.11622),\n",
              "             ('MSFT', 0.11613),\n",
              "             ('NAT', 0.0669),\n",
              "             ('SBUX', 0.0907)])"
            ]
          },
          "execution_count": 25,
          "metadata": {},
          "output_type": "execute_result"
        }
      ],
      "source": [
        "ef = EfficientFrontier(ret_bl, S_bl)\n",
        "ef.add_objective(objective_functions.L2_reg)\n",
        "ef.max_sharpe()\n",
        "weights = ef.clean_weights()\n",
        "weights"
      ]
    },
    {
      "cell_type": "code",
      "execution_count": 26,
      "metadata": {
        "colab": {
          "base_uri": "https://localhost:8080/",
          "height": 575
        },
        "id": "9_pWobQoAbNq",
        "outputId": "e50c07ee-7274-4936-8f0f-e347309013b9"
      },
      "outputs": [
        {
          "data": {
            "image/png": "[encoded data removed]",
            "text/plain": [
              "<Figure size 1000x1000 with 1 Axes>"
            ]
          },
          "metadata": {},
          "output_type": "display_data"
        }
      ],
      "source": [
        "pd.Series(weights).plot.pie(figsize=(10,10));"
      ]
    },
    {
      "cell_type": "code",
      "execution_count": 29,
      "metadata": {
        "colab": {
          "base_uri": "https://localhost:8080/"
        },
        "id": "8YHugSK8AbNq",
        "outputId": "095c7b24-0f63-4c6a-a80b-91247548486b"
      },
      "outputs": [
        {
          "name": "stdout",
          "output_type": "stream",
          "text": [
            "Leftover: $3.37\n"
          ]
        },
        {
          "data": {
            "text/plain": [
              "{'AMZN': np.int64(18),\n",
              " 'BAC': np.int64(60),\n",
              " 'COST': np.int64(2),\n",
              " 'DIS': np.int64(12),\n",
              " 'DPZ': np.int64(5),\n",
              " 'MCD': np.int64(8),\n",
              " 'MSFT': np.int64(5),\n",
              " 'NAT': np.int64(500),\n",
              " 'SBUX': np.int64(18)}"
            ]
          },
          "execution_count": 29,
          "metadata": {},
          "output_type": "execute_result"
        }
      ],
      "source": [
        "from pypfopt import DiscreteAllocation\n",
        "\n",
        "da = DiscreteAllocation(weights, prices.iloc[-1], total_portfolio_value=20000)\n",
        "alloc, leftover = da.lp_portfolio()\n",
        "print(f\"Leftover: ${leftover:.2f}\")\n",
        "alloc"
      ]
    }
  ],
  "metadata": {
    "colab": {
      "collapsed_sections": [],
      "name": "4-Black-Litterman-Allocation.ipynb",
      "provenance": []
    },
    "kernelspec": {
      "display_name": "Python 3",
      "name": "python3"
    },
    "language_info": {
      "codemirror_mode": {
        "name": "ipython",
        "version": 3
      },
      "file_extension": ".py",
      "mimetype": "text/x-python",
      "name": "python",
      "nbconvert_exporter": "python",
      "pygments_lexer": "ipython3",
      "version": "3.12.4"
    }
  },
  "nbformat": 4,
  "nbformat_minor": 0
}
