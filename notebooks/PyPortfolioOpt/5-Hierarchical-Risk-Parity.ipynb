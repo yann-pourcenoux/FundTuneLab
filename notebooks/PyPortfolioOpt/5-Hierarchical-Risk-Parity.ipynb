{
  "cells": [
    {
      "cell_type": "markdown",
      "id": "consolidated-vault",
      "metadata": {
        "id": "consolidated-vault"
      },
      "source": [
        "# Hierarchical Risk Parity\n",
        "\n",
        "HRP is a modern portfolio optimization method inspired by machine learning.\n",
        "\n",
        "The idea is that by examining the hierarchical structure of the market, we can better diversify. \n",
        "\n",
        "In this cookbook recipe, we will cover:\n",
        "\n",
        "- Downloading data for HRP\n",
        "- Using HRP to find the minimum variance portfolio\n",
        "- Plotting dendrograms\n",
        "\n",
        "[![Open In Colab](https://colab.research.google.com/assets/colab-badge.svg)](https://colab.research.google.com/github/robertmartin8/PyPortfolioOpt/blob/master/cookbook/5-Hierarchical-Risk-Parity.ipynb)\n",
        "    \n",
        "[![Kaggle](https://kaggle.com/static/images/open-in-kaggle.svg)](https://kaggle.com/kernels/welcome?src=https://github.com/robertmartin8/PyPortfolioOpt/blob/master/cookbook/5-Hierarchical-Risk-Parity.ipynb)\n",
        "    \n",
        "[![Gradient](https://assets.paperspace.io/img/gradient-badge.svg)](https://console.paperspace.com/github/robertmartin8/PyPortfolioOpt/blob/master/cookbook/5-Hierarchical-Risk-Parity.ipynb)\n",
        "    \n",
        "[![Open In SageMaker Studio Lab](https://studiolab.sagemaker.aws/studiolab.svg)](https://studiolab.sagemaker.aws/import/github/robertmartin8/PyPortfolioOpt/blob/master/cookbook/5-Hierarchical-Risk-Parity.ipynb)\n"
      ]
    },
    {
      "cell_type": "markdown",
      "id": "saving-safety",
      "metadata": {
        "id": "saving-safety"
      },
      "source": [
        "## Downloading data\n",
        "\n",
        "HRP only requires historical returns"
      ]
    },
    {
      "cell_type": "code",
      "execution_count": 2,
      "id": "committed-riverside",
      "metadata": {
        "colab": {
          "base_uri": "https://localhost:8080/",
          "height": 35
        },
        "id": "committed-riverside",
        "outputId": "a3c8fb63-b1ef-4696-c0df-5b16f37700d8"
      },
      "outputs": [
        {
          "data": {
            "text/plain": [
              "'1.5.6'"
            ]
          },
          "execution_count": 2,
          "metadata": {},
          "output_type": "execute_result"
        }
      ],
      "source": [
        "import numpy as np\n",
        "import pandas as pd\n",
        "import matplotlib.pyplot as plt\n",
        "import yfinance as yf\n",
        "import pypfopt\n",
        "\n",
        "pypfopt.__version__"
      ]
    },
    {
      "cell_type": "code",
      "execution_count": 3,
      "id": "accredited-enterprise",
      "metadata": {
        "colab": {
          "base_uri": "https://localhost:8080/",
          "height": 385
        },
        "id": "accredited-enterprise",
        "outputId": "8ffbfbd3-9b0f-4c86-ec5a-0508c068314d"
      },
      "outputs": [
        {
          "name": "stderr",
          "output_type": "stream",
          "text": [
            "[*********************100%***********************]  15 of 15 completed\n"
          ]
        },
        {
          "data": {
            "text/html": [
              "<div>\n",
              "<style scoped>\n",
              "    .dataframe tbody tr th:only-of-type {\n",
              "        vertical-align: middle;\n",
              "    }\n",
              "\n",
              "    .dataframe tbody tr th {\n",
              "        vertical-align: top;\n",
              "    }\n",
              "\n",
              "    .dataframe thead th {\n",
              "        text-align: right;\n",
              "    }\n",
              "</style>\n",
              "<table border=\"1\" class=\"dataframe\">\n",
              "  <thead>\n",
              "    <tr style=\"text-align: right;\">\n",
              "      <th>Ticker</th>\n",
              "      <th>AAPL</th>\n",
              "      <th>AMD</th>\n",
              "      <th>BAC</th>\n",
              "      <th>BLK</th>\n",
              "      <th>CVS</th>\n",
              "      <th>DIS</th>\n",
              "      <th>INTU</th>\n",
              "      <th>JD</th>\n",
              "      <th>MA</th>\n",
              "      <th>NVDA</th>\n",
              "      <th>PBI</th>\n",
              "      <th>TGT</th>\n",
              "      <th>TM</th>\n",
              "      <th>UL</th>\n",
              "      <th>WMT</th>\n",
              "    </tr>\n",
              "    <tr>\n",
              "      <th>Date</th>\n",
              "      <th></th>\n",
              "      <th></th>\n",
              "      <th></th>\n",
              "      <th></th>\n",
              "      <th></th>\n",
              "      <th></th>\n",
              "      <th></th>\n",
              "      <th></th>\n",
              "      <th></th>\n",
              "      <th></th>\n",
              "      <th></th>\n",
              "      <th></th>\n",
              "      <th></th>\n",
              "      <th></th>\n",
              "      <th></th>\n",
              "    </tr>\n",
              "  </thead>\n",
              "  <tbody>\n",
              "    <tr>\n",
              "      <th>2024-11-22</th>\n",
              "      <td>229.869995</td>\n",
              "      <td>138.350006</td>\n",
              "      <td>47.000000</td>\n",
              "      <td>1036.459961</td>\n",
              "      <td>58.009998</td>\n",
              "      <td>115.650002</td>\n",
              "      <td>640.119995</td>\n",
              "      <td>34.680000</td>\n",
              "      <td>520.859985</td>\n",
              "      <td>141.949997</td>\n",
              "      <td>8.05</td>\n",
              "      <td>125.010002</td>\n",
              "      <td>174.399994</td>\n",
              "      <td>58.610001</td>\n",
              "      <td>90.440002</td>\n",
              "    </tr>\n",
              "    <tr>\n",
              "      <th>2024-11-25</th>\n",
              "      <td>232.869995</td>\n",
              "      <td>141.130005</td>\n",
              "      <td>47.500000</td>\n",
              "      <td>1031.489990</td>\n",
              "      <td>60.080002</td>\n",
              "      <td>116.000000</td>\n",
              "      <td>634.619995</td>\n",
              "      <td>34.509998</td>\n",
              "      <td>526.599976</td>\n",
              "      <td>136.020004</td>\n",
              "      <td>8.16</td>\n",
              "      <td>130.529999</td>\n",
              "      <td>175.830002</td>\n",
              "      <td>58.779999</td>\n",
              "      <td>89.500000</td>\n",
              "    </tr>\n",
              "    <tr>\n",
              "      <th>2024-11-26</th>\n",
              "      <td>235.059998</td>\n",
              "      <td>137.720001</td>\n",
              "      <td>47.750000</td>\n",
              "      <td>1026.479980</td>\n",
              "      <td>59.009998</td>\n",
              "      <td>115.449997</td>\n",
              "      <td>638.830017</td>\n",
              "      <td>35.330002</td>\n",
              "      <td>528.479980</td>\n",
              "      <td>136.919998</td>\n",
              "      <td>8.20</td>\n",
              "      <td>126.550003</td>\n",
              "      <td>172.520004</td>\n",
              "      <td>59.099998</td>\n",
              "      <td>91.309998</td>\n",
              "    </tr>\n",
              "    <tr>\n",
              "      <th>2024-11-27</th>\n",
              "      <td>234.929993</td>\n",
              "      <td>136.240005</td>\n",
              "      <td>47.770000</td>\n",
              "      <td>1019.450012</td>\n",
              "      <td>59.959999</td>\n",
              "      <td>117.599998</td>\n",
              "      <td>636.169983</td>\n",
              "      <td>37.189999</td>\n",
              "      <td>532.380005</td>\n",
              "      <td>135.339996</td>\n",
              "      <td>8.14</td>\n",
              "      <td>130.089996</td>\n",
              "      <td>169.720001</td>\n",
              "      <td>59.740002</td>\n",
              "      <td>91.879997</td>\n",
              "    </tr>\n",
              "    <tr>\n",
              "      <th>2024-11-29</th>\n",
              "      <td>237.330002</td>\n",
              "      <td>137.179993</td>\n",
              "      <td>47.509998</td>\n",
              "      <td>1022.799988</td>\n",
              "      <td>59.849998</td>\n",
              "      <td>117.470001</td>\n",
              "      <td>641.729980</td>\n",
              "      <td>37.380001</td>\n",
              "      <td>532.940002</td>\n",
              "      <td>138.250000</td>\n",
              "      <td>8.06</td>\n",
              "      <td>132.309998</td>\n",
              "      <td>170.630005</td>\n",
              "      <td>59.840000</td>\n",
              "      <td>92.500000</td>\n",
              "    </tr>\n",
              "  </tbody>\n",
              "</table>\n",
              "</div>"
            ],
            "text/plain": [
              "Ticker            AAPL         AMD        BAC          BLK        CVS  \\\n",
              "Date                                                                    \n",
              "2024-11-22  229.869995  138.350006  47.000000  1036.459961  58.009998   \n",
              "2024-11-25  232.869995  141.130005  47.500000  1031.489990  60.080002   \n",
              "2024-11-26  235.059998  137.720001  47.750000  1026.479980  59.009998   \n",
              "2024-11-27  234.929993  136.240005  47.770000  1019.450012  59.959999   \n",
              "2024-11-29  237.330002  137.179993  47.509998  1022.799988  59.849998   \n",
              "\n",
              "Ticker             DIS        INTU         JD          MA        NVDA   PBI  \\\n",
              "Date                                                                          \n",
              "2024-11-22  115.650002  640.119995  34.680000  520.859985  141.949997  8.05   \n",
              "2024-11-25  116.000000  634.619995  34.509998  526.599976  136.020004  8.16   \n",
              "2024-11-26  115.449997  638.830017  35.330002  528.479980  136.919998  8.20   \n",
              "2024-11-27  117.599998  636.169983  37.189999  532.380005  135.339996  8.14   \n",
              "2024-11-29  117.470001  641.729980  37.380001  532.940002  138.250000  8.06   \n",
              "\n",
              "Ticker             TGT          TM         UL        WMT  \n",
              "Date                                                      \n",
              "2024-11-22  125.010002  174.399994  58.610001  90.440002  \n",
              "2024-11-25  130.529999  175.830002  58.779999  89.500000  \n",
              "2024-11-26  126.550003  172.520004  59.099998  91.309998  \n",
              "2024-11-27  130.089996  169.720001  59.740002  91.879997  \n",
              "2024-11-29  132.309998  170.630005  59.840000  92.500000  "
            ]
          },
          "execution_count": 3,
          "metadata": {},
          "output_type": "execute_result"
        }
      ],
      "source": [
        "tickers = [\"BLK\", \"BAC\", \"AAPL\", \"TM\", \"WMT\",\n",
        "           \"JD\", \"INTU\", \"MA\", \"UL\", \"CVS\",\n",
        "           \"DIS\", \"AMD\", \"NVDA\", \"PBI\", \"TGT\"]\n",
        "\n",
        "ohlc = yf.download(tickers, period=\"max\")\n",
        "prices = ohlc[\"Adj Close\"]\n",
        "prices.tail()"
      ]
    },
    {
      "cell_type": "code",
      "execution_count": 4,
      "id": "confident-plant",
      "metadata": {
        "colab": {
          "base_uri": "https://localhost:8080/",
          "height": 281
        },
        "id": "confident-plant",
        "outputId": "3ca52fc5-22ff-4a25-d58d-9f3700b04bb3"
      },
      "outputs": [
        {
          "data": {
            "text/html": [
              "<div>\n",
              "<style scoped>\n",
              "    .dataframe tbody tr th:only-of-type {\n",
              "        vertical-align: middle;\n",
              "    }\n",
              "\n",
              "    .dataframe tbody tr th {\n",
              "        vertical-align: top;\n",
              "    }\n",
              "\n",
              "    .dataframe thead th {\n",
              "        text-align: right;\n",
              "    }\n",
              "</style>\n",
              "<table border=\"1\" class=\"dataframe\">\n",
              "  <thead>\n",
              "    <tr style=\"text-align: right;\">\n",
              "      <th>Ticker</th>\n",
              "      <th>AAPL</th>\n",
              "      <th>AMD</th>\n",
              "      <th>BAC</th>\n",
              "      <th>BLK</th>\n",
              "      <th>CVS</th>\n",
              "      <th>DIS</th>\n",
              "      <th>INTU</th>\n",
              "      <th>JD</th>\n",
              "      <th>MA</th>\n",
              "      <th>NVDA</th>\n",
              "      <th>PBI</th>\n",
              "      <th>TGT</th>\n",
              "      <th>TM</th>\n",
              "      <th>UL</th>\n",
              "      <th>WMT</th>\n",
              "    </tr>\n",
              "    <tr>\n",
              "      <th>Date</th>\n",
              "      <th></th>\n",
              "      <th></th>\n",
              "      <th></th>\n",
              "      <th></th>\n",
              "      <th></th>\n",
              "      <th></th>\n",
              "      <th></th>\n",
              "      <th></th>\n",
              "      <th></th>\n",
              "      <th></th>\n",
              "      <th></th>\n",
              "      <th></th>\n",
              "      <th></th>\n",
              "      <th></th>\n",
              "      <th></th>\n",
              "    </tr>\n",
              "  </thead>\n",
              "  <tbody>\n",
              "    <tr>\n",
              "      <th>2024-11-22</th>\n",
              "      <td>0.005908</td>\n",
              "      <td>0.006255</td>\n",
              "      <td>0.011623</td>\n",
              "      <td>0.008230</td>\n",
              "      <td>0.015937</td>\n",
              "      <td>0.008107</td>\n",
              "      <td>-0.056844</td>\n",
              "      <td>-0.019785</td>\n",
              "      <td>0.011182</td>\n",
              "      <td>-0.032181</td>\n",
              "      <td>0.046814</td>\n",
              "      <td>0.028127</td>\n",
              "      <td>0.005883</td>\n",
              "      <td>0.017005</td>\n",
              "      <td>0.023193</td>\n",
              "    </tr>\n",
              "    <tr>\n",
              "      <th>2024-11-25</th>\n",
              "      <td>0.013051</td>\n",
              "      <td>0.020094</td>\n",
              "      <td>0.010638</td>\n",
              "      <td>-0.004795</td>\n",
              "      <td>0.035684</td>\n",
              "      <td>0.003026</td>\n",
              "      <td>-0.008592</td>\n",
              "      <td>-0.004902</td>\n",
              "      <td>0.011020</td>\n",
              "      <td>-0.041775</td>\n",
              "      <td>0.013665</td>\n",
              "      <td>0.044156</td>\n",
              "      <td>0.008200</td>\n",
              "      <td>0.002900</td>\n",
              "      <td>-0.010394</td>\n",
              "    </tr>\n",
              "    <tr>\n",
              "      <th>2024-11-26</th>\n",
              "      <td>0.009404</td>\n",
              "      <td>-0.024162</td>\n",
              "      <td>0.005263</td>\n",
              "      <td>-0.004857</td>\n",
              "      <td>-0.017810</td>\n",
              "      <td>-0.004741</td>\n",
              "      <td>0.006634</td>\n",
              "      <td>0.023761</td>\n",
              "      <td>0.003570</td>\n",
              "      <td>0.006617</td>\n",
              "      <td>0.004902</td>\n",
              "      <td>-0.030491</td>\n",
              "      <td>-0.018825</td>\n",
              "      <td>0.005444</td>\n",
              "      <td>0.020223</td>\n",
              "    </tr>\n",
              "    <tr>\n",
              "      <th>2024-11-27</th>\n",
              "      <td>-0.000553</td>\n",
              "      <td>-0.010746</td>\n",
              "      <td>0.000419</td>\n",
              "      <td>-0.006849</td>\n",
              "      <td>0.016099</td>\n",
              "      <td>0.018623</td>\n",
              "      <td>-0.004164</td>\n",
              "      <td>0.052646</td>\n",
              "      <td>0.007380</td>\n",
              "      <td>-0.011540</td>\n",
              "      <td>-0.007317</td>\n",
              "      <td>0.027973</td>\n",
              "      <td>-0.016230</td>\n",
              "      <td>0.010829</td>\n",
              "      <td>0.006242</td>\n",
              "    </tr>\n",
              "    <tr>\n",
              "      <th>2024-11-29</th>\n",
              "      <td>0.010216</td>\n",
              "      <td>0.006899</td>\n",
              "      <td>-0.005443</td>\n",
              "      <td>0.003286</td>\n",
              "      <td>-0.001835</td>\n",
              "      <td>-0.001105</td>\n",
              "      <td>0.008740</td>\n",
              "      <td>0.005109</td>\n",
              "      <td>0.001052</td>\n",
              "      <td>0.021501</td>\n",
              "      <td>-0.009828</td>\n",
              "      <td>0.017065</td>\n",
              "      <td>0.005362</td>\n",
              "      <td>0.001674</td>\n",
              "      <td>0.006748</td>\n",
              "    </tr>\n",
              "  </tbody>\n",
              "</table>\n",
              "</div>"
            ],
            "text/plain": [
              "Ticker          AAPL       AMD       BAC       BLK       CVS       DIS  \\\n",
              "Date                                                                     \n",
              "2024-11-22  0.005908  0.006255  0.011623  0.008230  0.015937  0.008107   \n",
              "2024-11-25  0.013051  0.020094  0.010638 -0.004795  0.035684  0.003026   \n",
              "2024-11-26  0.009404 -0.024162  0.005263 -0.004857 -0.017810 -0.004741   \n",
              "2024-11-27 -0.000553 -0.010746  0.000419 -0.006849  0.016099  0.018623   \n",
              "2024-11-29  0.010216  0.006899 -0.005443  0.003286 -0.001835 -0.001105   \n",
              "\n",
              "Ticker          INTU        JD        MA      NVDA       PBI       TGT  \\\n",
              "Date                                                                     \n",
              "2024-11-22 -0.056844 -0.019785  0.011182 -0.032181  0.046814  0.028127   \n",
              "2024-11-25 -0.008592 -0.004902  0.011020 -0.041775  0.013665  0.044156   \n",
              "2024-11-26  0.006634  0.023761  0.003570  0.006617  0.004902 -0.030491   \n",
              "2024-11-27 -0.004164  0.052646  0.007380 -0.011540 -0.007317  0.027973   \n",
              "2024-11-29  0.008740  0.005109  0.001052  0.021501 -0.009828  0.017065   \n",
              "\n",
              "Ticker            TM        UL       WMT  \n",
              "Date                                      \n",
              "2024-11-22  0.005883  0.017005  0.023193  \n",
              "2024-11-25  0.008200  0.002900 -0.010394  \n",
              "2024-11-26 -0.018825  0.005444  0.020223  \n",
              "2024-11-27 -0.016230  0.010829  0.006242  \n",
              "2024-11-29  0.005362  0.001674  0.006748  "
            ]
          },
          "execution_count": 4,
          "metadata": {},
          "output_type": "execute_result"
        }
      ],
      "source": [
        "from pypfopt import expected_returns\n",
        "\n",
        "rets = expected_returns.returns_from_prices(prices)\n",
        "rets.tail()"
      ]
    },
    {
      "cell_type": "markdown",
      "id": "answering-tamil",
      "metadata": {
        "id": "answering-tamil"
      },
      "source": [
        "## HRP optimization\n",
        "\n",
        "HRP uses a completely different backend, so it is currently not possible to pass constraints or specify an objective function."
      ]
    },
    {
      "cell_type": "code",
      "execution_count": 5,
      "id": "crazy-minority",
      "metadata": {
        "id": "crazy-minority"
      },
      "outputs": [],
      "source": [
        "from pypfopt import HRPOpt"
      ]
    },
    {
      "cell_type": "code",
      "execution_count": 6,
      "id": "determined-license",
      "metadata": {
        "colab": {
          "base_uri": "https://localhost:8080/"
        },
        "id": "determined-license",
        "outputId": "ba776958-535f-475b-b6bf-7c6994d311f8"
      },
      "outputs": [
        {
          "data": {
            "text/plain": [
              "OrderedDict([('AAPL', 0.03543),\n",
              "             ('AMD', 0.01748),\n",
              "             ('BAC', 0.0462),\n",
              "             ('BLK', 0.05103),\n",
              "             ('CVS', 0.11493),\n",
              "             ('DIS', 0.06638),\n",
              "             ('INTU', 0.03285),\n",
              "             ('JD', 0.04617),\n",
              "             ('MA', 0.05374),\n",
              "             ('NVDA', 0.01695),\n",
              "             ('PBI', 0.07773),\n",
              "             ('TGT', 0.07838),\n",
              "             ('TM', 0.11072),\n",
              "             ('UL', 0.156),\n",
              "             ('WMT', 0.09599)])"
            ]
          },
          "execution_count": 6,
          "metadata": {},
          "output_type": "execute_result"
        }
      ],
      "source": [
        "hrp = HRPOpt(rets)\n",
        "hrp.optimize()\n",
        "weights = hrp.clean_weights()\n",
        "weights"
      ]
    },
    {
      "cell_type": "code",
      "execution_count": 7,
      "id": "existing-memphis",
      "metadata": {
        "colab": {
          "base_uri": "https://localhost:8080/",
          "height": 575
        },
        "id": "existing-memphis",
        "outputId": "721f641a-3871-4bae-84f8-94cc0b75be87"
      },
      "outputs": [
        {
          "data": {
            "image/png": "[encoded data removed]",
            "text/plain": [
              "<Figure size 1000x1000 with 1 Axes>"
            ]
          },
          "metadata": {},
          "output_type": "display_data"
        }
      ],
      "source": [
        "pd.Series(weights).plot.pie(figsize=(10, 10));"
      ]
    },
    {
      "cell_type": "code",
      "execution_count": 8,
      "id": "dramatic-spyware",
      "metadata": {
        "colab": {
          "base_uri": "https://localhost:8080/"
        },
        "id": "dramatic-spyware",
        "outputId": "03958175-ebf7-4eb0-cc3a-57d969056f36"
      },
      "outputs": [
        {
          "name": "stdout",
          "output_type": "stream",
          "text": [
            "Expected annual return: 18.7%\n",
            "Annual volatility: 18.9%\n",
            "Sharpe Ratio: 0.99\n"
          ]
        }
      ],
      "source": [
        "hrp.portfolio_performance(verbose=True);"
      ]
    },
    {
      "cell_type": "markdown",
      "id": "occupational-costume",
      "metadata": {
        "id": "occupational-costume"
      },
      "source": [
        "## Plotting\n",
        "\n",
        "It is very simple to plot a dendrogram (tree diagram) based on the hierarchical structure of asset returns"
      ]
    },
    {
      "cell_type": "code",
      "execution_count": 9,
      "id": "upset-meaning",
      "metadata": {
        "colab": {
          "base_uri": "https://localhost:8080/",
          "height": 297
        },
        "id": "upset-meaning",
        "outputId": "65f2985a-e74f-405c-a01a-d7877a0e5326"
      },
      "outputs": [
        {
          "data": {
            "image/png": "[encoded data removed]",
            "text/plain": [
              "<Figure size 640x480 with 1 Axes>"
            ]
          },
          "metadata": {},
          "output_type": "display_data"
        }
      ],
      "source": [
        "from pypfopt import plotting\n",
        "\n",
        "plotting.plot_dendrogram(hrp); "
      ]
    },
    {
      "cell_type": "markdown",
      "id": "brave-shock",
      "metadata": {
        "id": "brave-shock"
      },
      "source": [
        "If you look at this dendogram closely, you can see that most of the clusters make a lot of sense. For example, AMD and NVDA (both semiconductor manufacturers) are grouped."
      ]
    },
    {
      "cell_type": "code",
      "execution_count": 9,
      "id": "macro-found",
      "metadata": {
        "id": "macro-found"
      },
      "outputs": [],
      "source": []
    }
  ],
  "metadata": {
    "colab": {
      "collapsed_sections": [],
      "name": "5-Hierarchical-Risk-Parity.ipynb",
      "provenance": []
    },
    "kernelspec": {
      "display_name": "Python 3",
      "name": "python3"
    },
    "language_info": {
      "codemirror_mode": {
        "name": "ipython",
        "version": 3
      },
      "file_extension": ".py",
      "mimetype": "text/x-python",
      "name": "python",
      "nbconvert_exporter": "python",
      "pygments_lexer": "ipython3",
      "version": "3.12.4"
    }
  },
  "nbformat": 4,
  "nbformat_minor": 5
}
