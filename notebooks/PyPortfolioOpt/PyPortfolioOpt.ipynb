{
 "cells": [
  {
   "cell_type": "code",
   "execution_count": 7,
   "id": "62ea8472",
   "metadata": {},
   "outputs": [
    {
     "name": "stderr",
     "output_type": "stream",
     "text": [
      "[*********************100%***********************]  4 of 4 completed\n"
     ]
    },
    {
     "data": {
      "text/html": [
       "<div>\n",
       "<style scoped>\n",
       "    .dataframe tbody tr th:only-of-type {\n",
       "        vertical-align: middle;\n",
       "    }\n",
       "\n",
       "    .dataframe tbody tr th {\n",
       "        vertical-align: top;\n",
       "    }\n",
       "\n",
       "    .dataframe thead th {\n",
       "        text-align: right;\n",
       "    }\n",
       "</style>\n",
       "<table border=\"1\" class=\"dataframe\">\n",
       "  <thead>\n",
       "    <tr style=\"text-align: right;\">\n",
       "      <th>Ticker</th>\n",
       "      <th>GOOG</th>\n",
       "      <th>META</th>\n",
       "      <th>MSFT</th>\n",
       "      <th>SPY</th>\n",
       "    </tr>\n",
       "    <tr>\n",
       "      <th>Date</th>\n",
       "      <th></th>\n",
       "      <th></th>\n",
       "      <th></th>\n",
       "      <th></th>\n",
       "    </tr>\n",
       "  </thead>\n",
       "  <tbody>\n",
       "    <tr>\n",
       "      <th>2010-01-04</th>\n",
       "      <td>15.517998</td>\n",
       "      <td>NaN</td>\n",
       "      <td>23.211443</td>\n",
       "      <td>85.515617</td>\n",
       "    </tr>\n",
       "    <tr>\n",
       "      <th>2010-01-05</th>\n",
       "      <td>15.449662</td>\n",
       "      <td>NaN</td>\n",
       "      <td>23.218937</td>\n",
       "      <td>85.741959</td>\n",
       "    </tr>\n",
       "    <tr>\n",
       "      <th>2010-01-06</th>\n",
       "      <td>15.060194</td>\n",
       "      <td>NaN</td>\n",
       "      <td>23.076447</td>\n",
       "      <td>85.802376</td>\n",
       "    </tr>\n",
       "    <tr>\n",
       "      <th>2010-01-07</th>\n",
       "      <td>14.709601</td>\n",
       "      <td>NaN</td>\n",
       "      <td>22.836466</td>\n",
       "      <td>86.164566</td>\n",
       "    </tr>\n",
       "    <tr>\n",
       "      <th>2010-01-08</th>\n",
       "      <td>14.905696</td>\n",
       "      <td>NaN</td>\n",
       "      <td>22.993946</td>\n",
       "      <td>86.451286</td>\n",
       "    </tr>\n",
       "  </tbody>\n",
       "</table>\n",
       "</div>"
      ],
      "text/plain": [
       "Ticker           GOOG  META       MSFT        SPY\n",
       "Date                                             \n",
       "2010-01-04  15.517998   NaN  23.211443  85.515617\n",
       "2010-01-05  15.449662   NaN  23.218937  85.741959\n",
       "2010-01-06  15.060194   NaN  23.076447  85.802376\n",
       "2010-01-07  14.709601   NaN  22.836466  86.164566\n",
       "2010-01-08  14.905696   NaN  22.993946  86.451286"
      ]
     },
     "execution_count": 7,
     "metadata": {},
     "output_type": "execute_result"
    }
   ],
   "source": [
    "import pandas as pd\n",
    "import yfinance as yf\n",
    "from pypfopt import EfficientFrontier\n",
    "from pypfopt import risk_models\n",
    "from pypfopt import expected_returns\n",
    "\n",
    "# Define the tickers and download the data\n",
    "tickers = ['GOOG', 'META', 'SPY', 'MSFT']\n",
    "df = yf.download(tickers, start='2010-01-01', end='2023-12-31', auto_adjust=True)[\"Close\"]\n",
    "df.head()"
   ]
  },
  {
   "cell_type": "code",
   "execution_count": 17,
   "id": "252df46c",
   "metadata": {},
   "outputs": [],
   "source": [
    "# Calculate expected returns and sample covariance\n",
    "mu = expected_returns.mean_historical_return(df)\n",
    "S = risk_models.sample_cov(df)"
   ]
  },
  {
   "cell_type": "code",
   "execution_count": 18,
   "id": "756dadeb",
   "metadata": {},
   "outputs": [
    {
     "data": {
      "text/plain": [
       "['CLARABEL', 'ECOS', 'ECOS_BB', 'OSQP', 'SCIPY', 'SCS']"
      ]
     },
     "execution_count": 18,
     "metadata": {},
     "output_type": "execute_result"
    }
   ],
   "source": [
    "import cvxpy\n",
    "\n",
    "cvxpy.installed_solvers()"
   ]
  },
  {
   "cell_type": "code",
   "execution_count": 25,
   "id": "e85e1d0a",
   "metadata": {},
   "outputs": [
    {
     "data": {
      "text/plain": [
       "(OrderedDict([('GOOG', 0.020162749037208),\n",
       "              ('META', 0.0720539689352315),\n",
       "              ('MSFT', 0.6188515150368795),\n",
       "              ('SPY', 0.2889317669906808)]),\n",
       " OrderedDict([('GOOG', 0.02016),\n",
       "              ('META', 0.07205),\n",
       "              ('MSFT', 0.61885),\n",
       "              ('SPY', 0.28893)]))"
      ]
     },
     "execution_count": 25,
     "metadata": {},
     "output_type": "execute_result"
    }
   ],
   "source": [
    "# Optimize for maximal Sharpe ratio\n",
    "ef = EfficientFrontier(mu, S)\n",
    "raw_weights = ef.max_sharpe()\n",
    "cleaned_weights = ef.clean_weights()\n",
    "ef.save_weights_to_file(\"weights.csv\")  # saves to file\n",
    "\n",
    "raw_weights, cleaned_weights"
   ]
  },
  {
   "cell_type": "code",
   "execution_count": 22,
   "id": "bac49c52",
   "metadata": {},
   "outputs": [
    {
     "name": "stdout",
     "output_type": "stream",
     "text": [
      "OrderedDict({'GOOG': 0.02016, 'META': 0.07205, 'MSFT': 0.61885, 'SPY': 0.28893})\n",
      "Expected annual return: 19.2%\n",
      "Annual volatility: 22.1%\n",
      "Sharpe Ratio: 0.87\n"
     ]
    },
    {
     "data": {
      "text/plain": [
       "(0.19188478396217667, 0.2210533635465323, 0.8680473388127589)"
      ]
     },
     "execution_count": 22,
     "metadata": {},
     "output_type": "execute_result"
    }
   ],
   "source": [
    "print(cleaned_weights)\n",
    "ef.portfolio_performance(verbose=True)"
   ]
  },
  {
   "cell_type": "code",
   "execution_count": null,
   "id": "15e0a501",
   "metadata": {},
   "outputs": [],
   "source": []
  }
 ],
 "metadata": {
  "kernelspec": {
   "display_name": ".venv",
   "language": "python",
   "name": "python3"
  },
  "language_info": {
   "codemirror_mode": {
    "name": "ipython",
    "version": 3
   },
   "file_extension": ".py",
   "mimetype": "text/x-python",
   "name": "python",
   "nbconvert_exporter": "python",
   "pygments_lexer": "ipython3",
   "version": "3.13.3"
  }
 },
 "nbformat": 4,
 "nbformat_minor": 5
}
